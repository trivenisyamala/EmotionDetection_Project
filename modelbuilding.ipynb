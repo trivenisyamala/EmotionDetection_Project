{
 "cells": [
  {
   "cell_type": "code",
   "execution_count": 1,
   "id": "c2ed5ddd",
   "metadata": {},
   "outputs": [],
   "source": [
    "# !pip install -r ./requirements.txt"
   ]
  },
  {
   "cell_type": "code",
   "execution_count": 2,
   "id": "474eb92e",
   "metadata": {},
   "outputs": [],
   "source": [
    "# !pip install tensorflow"
   ]
  },
  {
   "cell_type": "code",
   "execution_count": 3,
   "id": "8c9a8cc3",
   "metadata": {},
   "outputs": [],
   "source": [
    "# pip install opencv-python"
   ]
  },
  {
   "cell_type": "code",
   "execution_count": 4,
   "id": "20fe741b",
   "metadata": {},
   "outputs": [],
   "source": [
    "# pip install cmake"
   ]
  },
  {
   "cell_type": "code",
   "execution_count": 5,
   "id": "1ac2cdb0",
   "metadata": {},
   "outputs": [],
   "source": [
    "# pip install dlib"
   ]
  },
  {
   "cell_type": "code",
   "execution_count": 6,
   "id": "9078d065",
   "metadata": {},
   "outputs": [],
   "source": [
    "# ! pip install setuptools"
   ]
  },
  {
   "cell_type": "code",
   "execution_count": 7,
   "id": "45f3f97c",
   "metadata": {},
   "outputs": [],
   "source": [
    "# !pip install --ignore-installed --upgrade tensorflow"
   ]
  },
  {
   "cell_type": "code",
   "execution_count": 8,
   "id": "bf26f9ed",
   "metadata": {},
   "outputs": [],
   "source": [
    "# !python -m pip install --upgrade pip\n",
    "# !pip install --upgrade tensorflow\n",
    "# !pip install tensorflow==2.6.0\n",
    "# !pip install --upgrade typing-extensions\n"
   ]
  },
  {
   "cell_type": "code",
   "execution_count": 9,
   "id": "6c56cfab",
   "metadata": {},
   "outputs": [],
   "source": [
    "import cv2\n",
    "face_cascade = cv2.CascadeClassifier(cv2.data.haarcascades + 'haarcascade_frontalface_default.xml')\n",
    "\n",
    "def detect_face(image):\n",
    "    gray = cv2.cvtColor(image, cv2.COLOR_BGR2GRAY)\n",
    "    faces = face_cascade.detectMultiScale(gray, 1.1, 4)\n",
    "    return faces\n"
   ]
  },
  {
   "cell_type": "code",
   "execution_count": 10,
   "id": "adb0d2c0",
   "metadata": {},
   "outputs": [],
   "source": [
    "import dlib\n",
    "detector = dlib.get_frontal_face_detector()\n",
    "predictor = dlib.shape_predictor(r\"C:\\Users\\syama\\Desktop\\EmotionDetectionProject_guvi\\shape_predictor_68_face_landmarks\\shape_predictor_68_face_landmarks.dat\")\n",
    "\n",
    "def extract_landmarks(image):\n",
    "    faces = detector(image)\n",
    "    for face in faces:\n",
    "        landmarks = predictor(image, face)\n",
    "        return landmarks"
   ]
  },
  {
   "cell_type": "code",
   "execution_count": 11,
   "id": "c52afd77-f5fb-4dc3-8ce4-c62d918c11a7",
   "metadata": {},
   "outputs": [],
   "source": [
    "import tensorflow as tf\n",
    "from tensorflow.keras.models import Sequential\n",
    "from tensorflow.keras.layers import Conv2D, MaxPooling2D, Flatten, Dense\n",
    "\n",
    "model = Sequential([\n",
    "    Conv2D(32, (3, 3), activation='relu', input_shape=(48, 48, 1)),\n",
    "    MaxPooling2D(pool_size=(2, 2)),\n",
    "    Conv2D(64, (3, 3), activation='relu'),\n",
    "    MaxPooling2D(pool_size=(2, 2)),\n",
    "    Flatten(),\n",
    "    Dense(128, activation='relu'),\n",
    "    Dense(7, activation='softmax')  # For 7 emotion categories\n",
    "])\n",
    "\n",
    "model.compile(optimizer='adam', loss='categorical_crossentropy', metrics=['accuracy'])\n"
   ]
  },
  {
   "cell_type": "code",
   "execution_count": 12,
   "id": "6af2ee14",
   "metadata": {},
   "outputs": [
    {
     "name": "stdout",
     "output_type": "stream",
     "text": [
      "Found 28709 images belonging to 7 classes.\n",
      "Found 7178 images belonging to 7 classes.\n"
     ]
    }
   ],
   "source": [
    "train_dir = r\"C:\\Users\\syama\\Desktop\\EmotionDetectionProject_guvi\\Data\\train\"\n",
    "val_dir = r\"C:\\Users\\syama\\Desktop\\EmotionDetectionProject_guvi\\Data\\test\"\n",
    "\n",
    "\n",
    "from tensorflow.keras.preprocessing.image import ImageDataGenerator\n",
    "\n",
    "# Create an instance of ImageDataGenerator for augmentation\n",
    "train_datagen = ImageDataGenerator(\n",
    "    rescale=1./255,         # Rescale pixel values (0-255) to (0-1)\n",
    "    rotation_range=20,      # Randomly rotate images\n",
    "    width_shift_range=0.2,  # Randomly shift images horizontally\n",
    "    height_shift_range=0.2, # Randomly shift images vertically\n",
    "    shear_range=0.2,        # Shear transformation\n",
    "    zoom_range=0.2,         # Random zoom\n",
    "    horizontal_flip=True,   # Randomly flip images\n",
    "    fill_mode='nearest'     # Filling pixels that are lost during transformation\n",
    ")\n",
    "\n",
    "# For validation, we usually only rescale without augmentation\n",
    "val_datagen = ImageDataGenerator(rescale=1./255)\n",
    "\n",
    "# Load training images from directories and apply augmentation\n",
    "train_generator = train_datagen.flow_from_directory(\n",
    "    train_dir,              # Path to training directory\n",
    "    target_size=(48, 48),   # Resize images to 48x48\n",
    "    batch_size=64,          # Number of images to process in a batch\n",
    "    color_mode='grayscale', # Convert images to grayscale since FER-2013 uses grayscale images\n",
    "    class_mode='categorical' # Output is categorical (7 emotion categories)\n",
    ")\n",
    "\n",
    "# Load validation images (without augmentation)\n",
    "validation_generator = val_datagen.flow_from_directory(\n",
    "    val_dir,                # Path to validation directory\n",
    "    target_size=(48, 48),   # Resize images to 48x48\n",
    "    batch_size=64,          # Number of images to process in a batch\n",
    "    color_mode='grayscale', # Convert images to grayscale\n",
    "    class_mode='categorical' # Output is categorical (7 emotion categories)\n",
    ")\n"
   ]
  },
  {
   "cell_type": "code",
   "execution_count": 13,
   "id": "72011705",
   "metadata": {},
   "outputs": [],
   "source": [
    "# !pip install PILLOW"
   ]
  },
  {
   "cell_type": "code",
   "execution_count": 14,
   "id": "0a063587",
   "metadata": {},
   "outputs": [
    {
     "name": "stdout",
     "output_type": "stream",
     "text": [
      "Epoch 1/30\n",
      "448/448 [==============================] - 331s 738ms/step - loss: 1.7010 - accuracy: 0.3138 - val_loss: 1.5922 - val_accuracy: 0.3753\n",
      "Epoch 2/30\n",
      "448/448 [==============================] - 74s 166ms/step - loss: 1.6692 - accuracy: 0.3306 - val_loss: 1.5720 - val_accuracy: 0.3983\n",
      "Epoch 3/30\n",
      "448/448 [==============================] - 70s 157ms/step - loss: 1.6386 - accuracy: 0.3492 - val_loss: 1.5480 - val_accuracy: 0.4058\n",
      "Epoch 4/30\n",
      "448/448 [==============================] - 70s 157ms/step - loss: 1.6154 - accuracy: 0.3600 - val_loss: 1.4834 - val_accuracy: 0.4176\n",
      "Epoch 5/30\n",
      "448/448 [==============================] - 70s 156ms/step - loss: 1.5835 - accuracy: 0.3799 - val_loss: 1.4451 - val_accuracy: 0.4435\n",
      "Epoch 6/30\n",
      "448/448 [==============================] - 70s 156ms/step - loss: 1.5577 - accuracy: 0.3922 - val_loss: 1.4034 - val_accuracy: 0.4713\n",
      "Epoch 7/30\n",
      "448/448 [==============================] - 71s 159ms/step - loss: 1.5387 - accuracy: 0.4029 - val_loss: 1.3917 - val_accuracy: 0.4683\n",
      "Epoch 8/30\n",
      "448/448 [==============================] - 70s 155ms/step - loss: 1.5118 - accuracy: 0.4130 - val_loss: 1.3733 - val_accuracy: 0.4788\n",
      "Epoch 9/30\n",
      "448/448 [==============================] - 70s 157ms/step - loss: 1.4939 - accuracy: 0.4217 - val_loss: 1.3570 - val_accuracy: 0.4823\n",
      "Epoch 10/30\n",
      "448/448 [==============================] - 69s 154ms/step - loss: 1.4795 - accuracy: 0.4262 - val_loss: 1.3477 - val_accuracy: 0.4879\n",
      "Epoch 11/30\n",
      "448/448 [==============================] - 70s 156ms/step - loss: 1.4604 - accuracy: 0.4362 - val_loss: 1.3182 - val_accuracy: 0.5022\n",
      "Epoch 12/30\n",
      "448/448 [==============================] - 70s 157ms/step - loss: 1.4492 - accuracy: 0.4415 - val_loss: 1.3549 - val_accuracy: 0.4894\n",
      "Epoch 13/30\n",
      "448/448 [==============================] - 70s 156ms/step - loss: 1.4432 - accuracy: 0.4451 - val_loss: 1.2978 - val_accuracy: 0.5059\n",
      "Epoch 14/30\n",
      "448/448 [==============================] - 71s 158ms/step - loss: 1.4338 - accuracy: 0.4481 - val_loss: 1.3022 - val_accuracy: 0.5074\n",
      "Epoch 15/30\n",
      "448/448 [==============================] - 69s 155ms/step - loss: 1.4292 - accuracy: 0.4494 - val_loss: 1.3001 - val_accuracy: 0.5046\n",
      "Epoch 16/30\n",
      "448/448 [==============================] - 70s 155ms/step - loss: 1.4175 - accuracy: 0.4531 - val_loss: 1.2765 - val_accuracy: 0.5159\n",
      "Epoch 17/30\n",
      "448/448 [==============================] - 70s 157ms/step - loss: 1.4086 - accuracy: 0.4586 - val_loss: 1.2826 - val_accuracy: 0.5059\n",
      "Epoch 18/30\n",
      "448/448 [==============================] - 69s 154ms/step - loss: 1.3999 - accuracy: 0.4645 - val_loss: 1.2891 - val_accuracy: 0.5088\n",
      "Epoch 19/30\n",
      "448/448 [==============================] - 68s 152ms/step - loss: 1.3931 - accuracy: 0.4668 - val_loss: 1.2716 - val_accuracy: 0.5181\n",
      "Epoch 20/30\n",
      "448/448 [==============================] - 71s 158ms/step - loss: 1.3850 - accuracy: 0.4696 - val_loss: 1.2674 - val_accuracy: 0.5098\n",
      "Epoch 21/30\n",
      "448/448 [==============================] - 71s 158ms/step - loss: 1.3824 - accuracy: 0.4723 - val_loss: 1.2744 - val_accuracy: 0.5089\n",
      "Epoch 22/30\n",
      "448/448 [==============================] - 70s 156ms/step - loss: 1.3782 - accuracy: 0.4717 - val_loss: 1.2459 - val_accuracy: 0.5258\n",
      "Epoch 23/30\n",
      "448/448 [==============================] - 71s 158ms/step - loss: 1.3758 - accuracy: 0.4743 - val_loss: 1.2625 - val_accuracy: 0.5165\n",
      "Epoch 24/30\n",
      "448/448 [==============================] - 69s 155ms/step - loss: 1.3642 - accuracy: 0.4806 - val_loss: 1.2759 - val_accuracy: 0.5176\n",
      "Epoch 25/30\n",
      "448/448 [==============================] - 70s 155ms/step - loss: 1.3669 - accuracy: 0.4776 - val_loss: 1.2472 - val_accuracy: 0.5204\n",
      "Epoch 26/30\n",
      "448/448 [==============================] - 69s 155ms/step - loss: 1.3586 - accuracy: 0.4822 - val_loss: 1.2545 - val_accuracy: 0.5261\n",
      "Epoch 27/30\n",
      "448/448 [==============================] - 70s 155ms/step - loss: 1.3551 - accuracy: 0.4820 - val_loss: 1.2841 - val_accuracy: 0.5149\n",
      "Epoch 28/30\n",
      "448/448 [==============================] - 71s 159ms/step - loss: 1.3526 - accuracy: 0.4822 - val_loss: 1.2392 - val_accuracy: 0.5289\n",
      "Epoch 29/30\n",
      "448/448 [==============================] - 69s 154ms/step - loss: 1.3480 - accuracy: 0.4864 - val_loss: 1.2636 - val_accuracy: 0.5169\n",
      "Epoch 30/30\n",
      "448/448 [==============================] - 70s 157ms/step - loss: 1.3474 - accuracy: 0.4870 - val_loss: 1.2471 - val_accuracy: 0.5229\n"
     ]
    },
    {
     "name": "stderr",
     "output_type": "stream",
     "text": [
      "c:\\Users\\syama\\anaconda3\\envs\\tf_env\\lib\\site-packages\\keras\\src\\engine\\training.py:3000: UserWarning: You are saving your model as an HDF5 file via `model.save()`. This file format is considered legacy. We recommend using instead the native Keras format, e.g. `model.save('my_model.keras')`.\n",
      "  saving_api.save_model(\n"
     ]
    }
   ],
   "source": [
    "from tensorflow.keras.models import Sequential\n",
    "from tensorflow.keras.layers import Conv2D, MaxPooling2D, Flatten, Dense\n",
    "from tensorflow.keras.preprocessing.image import ImageDataGenerator\n",
    "\n",
    "# Define your model here as before\n",
    "\n",
    "# Make sure you use TensorFlow's fit\n",
    "history = model.fit(\n",
    "    train_generator,\n",
    "    steps_per_epoch=train_generator.samples // train_generator.batch_size,\n",
    "    validation_data=validation_generator,\n",
    "    validation_steps=validation_generator.samples // validation_generator.batch_size,\n",
    "    epochs=30\n",
    ")\n",
    "\n",
    "\n",
    "# Save the model\n",
    "model.save('emotion_classification_model.h5')\n"
   ]
  },
  {
   "cell_type": "code",
   "execution_count": 8,
   "id": "897e4fb2",
   "metadata": {},
   "outputs": [
    {
     "name": "stdout",
     "output_type": "stream",
     "text": [
      "Collecting streamlit\n",
      "  Downloading streamlit-1.38.0-py2.py3-none-any.whl (8.7 MB)\n",
      "Collecting altair<6,>=4.0\n",
      "  Downloading altair-5.4.1-py3-none-any.whl (658 kB)\n",
      "Requirement already satisfied: tornado<7,>=6.0.3 in c:\\users\\syama\\anaconda3\\envs\\tf_env\\lib\\site-packages (from streamlit) (6.4.1)\n",
      "Collecting toml<2,>=0.10.1\n",
      "  Using cached toml-0.10.2-py2.py3-none-any.whl (16 kB)\n",
      "Collecting blinker<2,>=1.0.0\n",
      "  Downloading blinker-1.8.2-py3-none-any.whl (9.5 kB)\n",
      "Collecting watchdog<5,>=2.1.5\n",
      "  Downloading watchdog-4.0.2-py3-none-win_amd64.whl (82 kB)\n",
      "Requirement already satisfied: pillow<11,>=7.1.0 in c:\\users\\syama\\anaconda3\\envs\\tf_env\\lib\\site-packages (from streamlit) (10.4.0)\n",
      "Collecting gitpython!=3.1.19,<4,>=3.0.7\n",
      "  Downloading GitPython-3.1.43-py3-none-any.whl (207 kB)\n",
      "Collecting pyarrow>=7.0\n",
      "  Downloading pyarrow-17.0.0-cp38-cp38-win_amd64.whl (25.2 MB)\n",
      "Collecting tenacity<9,>=8.1.0\n",
      "  Downloading tenacity-8.5.0-py3-none-any.whl (28 kB)\n",
      "Requirement already satisfied: typing-extensions<5,>=4.3.0 in c:\\users\\syama\\anaconda3\\envs\\tf_env\\lib\\site-packages (from streamlit) (4.5.0)\n",
      "Collecting rich<14,>=10.14.0\n",
      "  Using cached rich-13.8.1-py3-none-any.whl (241 kB)\n",
      "Requirement already satisfied: packaging<25,>=20 in c:\\users\\syama\\anaconda3\\envs\\tf_env\\lib\\site-packages (from streamlit) (24.1)\n",
      "Requirement already satisfied: requests<3,>=2.27 in c:\\users\\syama\\anaconda3\\envs\\tf_env\\lib\\site-packages (from streamlit) (2.32.3)\n",
      "Requirement already satisfied: numpy<3,>=1.20 in c:\\users\\syama\\appdata\\roaming\\python\\python38\\site-packages (from streamlit) (1.22.1)\n",
      "Requirement already satisfied: cachetools<6,>=4.0 in c:\\users\\syama\\anaconda3\\envs\\tf_env\\lib\\site-packages (from streamlit) (5.5.0)\n",
      "Requirement already satisfied: protobuf<6,>=3.20 in c:\\users\\syama\\anaconda3\\envs\\tf_env\\lib\\site-packages (from streamlit) (4.25.5)\n",
      "Collecting pydeck<1,>=0.8.0b4\n",
      "  Downloading pydeck-0.9.1-py2.py3-none-any.whl (6.9 MB)\n",
      "Collecting click<9,>=7.0\n",
      "  Using cached click-8.1.7-py3-none-any.whl (97 kB)\n",
      "Collecting pandas<3,>=1.3.0\n",
      "  Using cached pandas-2.0.3-cp38-cp38-win_amd64.whl (10.8 MB)\n",
      "Collecting jsonschema>=3.0\n",
      "  Downloading jsonschema-4.23.0-py3-none-any.whl (88 kB)\n",
      "Collecting typing-extensions<5,>=4.3.0\n",
      "  Using cached typing_extensions-4.12.2-py3-none-any.whl (37 kB)\n",
      "Collecting jinja2\n",
      "  Using cached jinja2-3.1.4-py3-none-any.whl (133 kB)\n",
      "Collecting narwhals>=1.5.2\n",
      "  Downloading narwhals-1.8.2-py3-none-any.whl (167 kB)\n",
      "Requirement already satisfied: colorama in c:\\users\\syama\\anaconda3\\envs\\tf_env\\lib\\site-packages (from click<9,>=7.0->streamlit) (0.4.6)\n",
      "Collecting gitdb<5,>=4.0.1\n",
      "  Using cached gitdb-4.0.11-py3-none-any.whl (62 kB)\n",
      "Collecting tzdata>=2022.1\n",
      "  Using cached tzdata-2024.1-py2.py3-none-any.whl (345 kB)\n",
      "Requirement already satisfied: python-dateutil>=2.8.2 in c:\\users\\syama\\anaconda3\\envs\\tf_env\\lib\\site-packages (from pandas<3,>=1.3.0->streamlit) (2.9.0)\n",
      "Collecting pytz>=2020.1\n",
      "  Downloading pytz-2024.2-py2.py3-none-any.whl (508 kB)\n",
      "Requirement already satisfied: certifi>=2017.4.17 in c:\\users\\syama\\anaconda3\\envs\\tf_env\\lib\\site-packages (from requests<3,>=2.27->streamlit) (2024.8.30)\n",
      "Requirement already satisfied: urllib3<3,>=1.21.1 in c:\\users\\syama\\appdata\\roaming\\python\\python38\\site-packages (from requests<3,>=2.27->streamlit) (1.26.2)\n",
      "Requirement already satisfied: charset-normalizer<4,>=2 in c:\\users\\syama\\anaconda3\\envs\\tf_env\\lib\\site-packages (from requests<3,>=2.27->streamlit) (3.3.2)\n",
      "Requirement already satisfied: idna<4,>=2.5 in c:\\users\\syama\\appdata\\roaming\\python\\python38\\site-packages (from requests<3,>=2.27->streamlit) (2.10)\n",
      "Requirement already satisfied: pygments<3.0.0,>=2.13.0 in c:\\users\\syama\\anaconda3\\envs\\tf_env\\lib\\site-packages (from rich<14,>=10.14.0->streamlit) (2.18.0)\n",
      "Collecting markdown-it-py>=2.2.0\n",
      "  Using cached markdown_it_py-3.0.0-py3-none-any.whl (87 kB)\n",
      "Collecting smmap<6,>=3.0.1\n",
      "  Using cached smmap-5.0.1-py3-none-any.whl (24 kB)\n",
      "Requirement already satisfied: MarkupSafe>=2.0 in c:\\users\\syama\\anaconda3\\envs\\tf_env\\lib\\site-packages (from jinja2->altair<6,>=4.0->streamlit) (2.1.5)\n",
      "Collecting jsonschema-specifications>=2023.03.6\n",
      "  Using cached jsonschema_specifications-2023.12.1-py3-none-any.whl (18 kB)\n",
      "Collecting attrs>=22.2.0\n",
      "  Downloading attrs-24.2.0-py3-none-any.whl (63 kB)\n",
      "Collecting rpds-py>=0.7.1\n",
      "  Downloading rpds_py-0.20.0-cp38-none-win_amd64.whl (213 kB)\n",
      "Collecting pkgutil-resolve-name>=1.3.10\n",
      "  Using cached pkgutil_resolve_name-1.3.10-py3-none-any.whl (4.7 kB)\n",
      "Collecting referencing>=0.28.4\n",
      "  Using cached referencing-0.35.1-py3-none-any.whl (26 kB)\n",
      "Collecting importlib-resources>=1.4.0\n",
      "  Downloading importlib_resources-6.4.5-py3-none-any.whl (36 kB)\n",
      "Collecting mdurl~=0.1\n",
      "  Using cached mdurl-0.1.2-py3-none-any.whl (10.0 kB)\n",
      "Requirement already satisfied: six>=1.5 in c:\\users\\syama\\anaconda3\\envs\\tf_env\\lib\\site-packages (from python-dateutil>=2.8.2->pandas<3,>=1.3.0->streamlit) (1.16.0)\n",
      "Requirement already satisfied: zipp>=3.1.0 in c:\\users\\syama\\anaconda3\\envs\\tf_env\\lib\\site-packages (from importlib-resources>=1.4.0->jsonschema>=3.0->altair<6,>=4.0->streamlit) (3.20.2)\n",
      "Installing collected packages: rpds-py, attrs, referencing, importlib-resources, smmap, pkgutil-resolve-name, mdurl, jsonschema-specifications, tzdata, typing-extensions, pytz, narwhals, markdown-it-py, jsonschema, jinja2, gitdb, watchdog, toml, tenacity, rich, pydeck, pyarrow, pandas, gitpython, click, blinker, altair, streamlit\n",
      "  Attempting uninstall: typing-extensions\n",
      "    Found existing installation: typing-extensions 4.5.0\n",
      "    Uninstalling typing-extensions-4.5.0:\n",
      "      Successfully uninstalled typing-extensions-4.5.0\n",
      "Successfully installed altair-5.4.1 attrs-24.2.0 blinker-1.8.2 click-8.1.7 gitdb-4.0.11 gitpython-3.1.43 importlib-resources-6.4.5 jinja2-3.1.4 jsonschema-4.23.0 jsonschema-specifications-2023.12.1 markdown-it-py-3.0.0 mdurl-0.1.2 narwhals-1.8.2 pandas-2.0.3 pkgutil-resolve-name-1.3.10 pyarrow-17.0.0 pydeck-0.9.1 pytz-2024.2 referencing-0.35.1 rich-13.8.1 rpds-py-0.20.0 smmap-5.0.1 streamlit-1.38.0 tenacity-8.5.0 toml-0.10.2 typing-extensions-4.12.2 tzdata-2024.1 watchdog-4.0.2\n"
     ]
    },
    {
     "name": "stderr",
     "output_type": "stream",
     "text": [
      "ERROR: pip's dependency resolver does not currently take into account all the packages that are installed. This behaviour is the source of the following dependency conflicts.\n",
      "tmtoolkit 0.10.0 requires matplotlib<3.4,>=3.3.0, which is not installed.\n",
      "tmtoolkit 0.10.0 requires xlrd>=1.2.0, which is not installed.\n",
      "sacremoses 0.0.43 requires regex, which is not installed.\n",
      "sacremoses 0.0.43 requires tqdm, which is not installed.\n",
      "bertopic 0.9.4 requires hdbscan>=0.8.27, which is not installed.\n",
      "bertopic 0.9.4 requires pyyaml<6.0, which is not installed.\n",
      "bertopic 0.9.4 requires tqdm>=4.41.1, which is not installed.\n",
      "bert-embeddings 0.0.10 requires filelock==3.0.12, which is not installed.\n",
      "bert-embeddings 0.0.10 requires future==0.18.2, which is not installed.\n",
      "bert-embeddings 0.0.10 requires pyparsing==2.4.7, which is not installed.\n",
      "bert-embeddings 0.0.10 requires regex==2020.11.13, which is not installed.\n",
      "bert-embeddings 0.0.10 requires tokenizers==0.9.4, which is not installed.\n",
      "bert-embeddings 0.0.10 requires tqdm==4.56.0, which is not installed.\n",
      "tmtoolkit 0.10.0 requires pandas<1.2,>=1.1.0, but you have pandas 2.0.3 which is incompatible.\n",
      "bert-embeddings 0.0.10 requires certifi==2020.12.5, but you have certifi 2024.8.30 which is incompatible.\n",
      "bert-embeddings 0.0.10 requires click==7.1.2, but you have click 8.1.7 which is incompatible.\n",
      "bert-embeddings 0.0.10 requires importlib-metadata==3.4.0, but you have importlib-metadata 8.5.0 which is incompatible.\n",
      "bert-embeddings 0.0.10 requires joblib==1.0.0, but you have joblib 1.4.2 which is incompatible.\n",
      "bert-embeddings 0.0.10 requires numpy==1.19.5, but you have numpy 1.22.1 which is incompatible.\n",
      "bert-embeddings 0.0.10 requires packaging==20.8, but you have packaging 24.1 which is incompatible.\n",
      "bert-embeddings 0.0.10 requires requests==2.25.1, but you have requests 2.32.3 which is incompatible.\n",
      "bert-embeddings 0.0.10 requires six==1.15.0, but you have six 1.16.0 which is incompatible.\n",
      "bert-embeddings 0.0.10 requires transformers==4.2.2, but you have transformers 4.15.0 which is incompatible.\n",
      "bert-embeddings 0.0.10 requires typing-extensions==3.7.4.3, but you have typing-extensions 4.12.2 which is incompatible.\n",
      "bert-embeddings 0.0.10 requires zipp==3.4.0, but you have zipp 3.20.2 which is incompatible.\n",
      "tensorflow-intel 2.13.0 requires typing-extensions<4.6.0,>=3.6.6, but you have typing-extensions 4.12.2 which is incompatible.\n",
      "WARNING: You are using pip version 21.3.1; however, version 24.2 is available.\n",
      "You should consider upgrading via the 'C:\\Users\\syama\\anaconda3\\envs\\tf_env\\python.exe -m pip install --upgrade pip' command.\n"
     ]
    }
   ],
   "source": [
    "!pip install streamlit"
   ]
  }
 ],
 "metadata": {
  "kernelspec": {
   "display_name": "Python 3 (ipykernel)",
   "language": "python",
   "name": "python3"
  },
  "language_info": {
   "codemirror_mode": {
    "name": "ipython",
    "version": 3
   },
   "file_extension": ".py",
   "mimetype": "text/x-python",
   "name": "python",
   "nbconvert_exporter": "python",
   "pygments_lexer": "ipython3",
   "version": "3.8.20"
  }
 },
 "nbformat": 4,
 "nbformat_minor": 5
}
